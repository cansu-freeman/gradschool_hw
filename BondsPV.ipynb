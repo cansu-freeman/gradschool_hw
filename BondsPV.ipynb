{
 "cells": [
  {
   "cell_type": "markdown",
   "metadata": {},
   "source": [
    "Problem 2.3 (a)"
   ]
  },
  {
   "cell_type": "code",
   "execution_count": 1,
   "metadata": {},
   "outputs": [],
   "source": [
    "def bondPV(years, ytm, r, F):\n",
    "    '''\n",
    "    This function inputs a bond's number of years to maturity, \n",
    "    the yield-to-maturity, and coupon rate, and the bond's face value, \n",
    "    and returns the bond's present value.\n",
    "    \n",
    "    Input Variables: \n",
    "    years: years to maturity\n",
    "    aytm:  annual yield to maturity\n",
    "    r:     annual coupon rate\n",
    "    F:     face value aka principal\n",
    "    \n",
    "    Other Variables:\n",
    "    dr: discount rate\n",
    "    CP: coupon payment  \n",
    "    N:  no. of 6 month periods to maturity   \n",
    "    '''\n",
    "    \n",
    "    dr = .5*ytm\n",
    "    CP = (r*F)/2\n",
    "    N = years*2  \n",
    "    \n",
    "    annCoupPV = 0\n",
    "    for t in range(1, N+1):\n",
    "        annCoupPV = annCoupPV + CP/((1+dr)**t)\n",
    "    \n",
    "    principalPV = F/(1+dr)**N\n",
    "    \n",
    "    PV = annCoupPV + principalPV\n",
    "    \n",
    "    return PV"
   ]
  },
  {
   "cell_type": "markdown",
   "metadata": {},
   "source": [
    " Testing function below:"
   ]
  },
  {
   "cell_type": "code",
   "execution_count": 2,
   "metadata": {},
   "outputs": [
    {
     "data": {
      "text/plain": [
       "1447.1246458144908"
      ]
     },
     "execution_count": 2,
     "metadata": {},
     "output_type": "execute_result"
    }
   ],
   "source": [
    "bondPV(12, ytm = .05, r = .10, F = 1000)"
   ]
  },
  {
   "cell_type": "code",
   "execution_count": 3,
   "metadata": {
    "scrolled": true
   },
   "outputs": [
    {
     "data": {
      "text/plain": [
       "1000.0000000000016"
      ]
     },
     "execution_count": 3,
     "metadata": {},
     "output_type": "execute_result"
    }
   ],
   "source": [
    "bondPV(12, ytm = .05, r = .05, F = 1000)"
   ]
  },
  {
   "cell_type": "markdown",
   "metadata": {},
   "source": [
    " "
   ]
  },
  {
   "cell_type": "markdown",
   "metadata": {},
   "source": [
    "2.3 (b)"
   ]
  },
  {
   "cell_type": "code",
   "execution_count": 4,
   "metadata": {},
   "outputs": [],
   "source": [
    "import pandas as pd\n",
    "pd.options.mode.chained_assignment = None  # default='warn'\n",
    "import numpy as np"
   ]
  },
  {
   "cell_type": "code",
   "execution_count": 5,
   "metadata": {},
   "outputs": [],
   "source": [
    "ytm = np.arange(0.01, .10, 0.01)\n",
    "\n",
    "bondA = []\n",
    "bondB = []\n",
    "for i in ytm:\n",
    "    bondA.append(bondPV(10, ytm = i, r = .05, F = 1000))\n",
    "    bondB.append(bondPV(30, ytm = i, r = .05, F = 1000))"
   ]
  },
  {
   "cell_type": "code",
   "execution_count": 6,
   "metadata": {},
   "outputs": [
    {
     "data": {
      "text/html": [
       "<div>\n",
       "<style scoped>\n",
       "    .dataframe tbody tr th:only-of-type {\n",
       "        vertical-align: middle;\n",
       "    }\n",
       "\n",
       "    .dataframe tbody tr th {\n",
       "        vertical-align: top;\n",
       "    }\n",
       "\n",
       "    .dataframe thead th {\n",
       "        text-align: right;\n",
       "    }\n",
       "</style>\n",
       "<table border=\"1\" class=\"dataframe\">\n",
       "  <thead>\n",
       "    <tr style=\"text-align: right;\">\n",
       "      <th></th>\n",
       "      <th>ytm</th>\n",
       "      <th>bondA</th>\n",
       "      <th>bondB</th>\n",
       "    </tr>\n",
       "  </thead>\n",
       "  <tbody>\n",
       "    <tr>\n",
       "      <th>0</th>\n",
       "      <td>0.01</td>\n",
       "      <td>1379.748383</td>\n",
       "      <td>2034.511215</td>\n",
       "    </tr>\n",
       "    <tr>\n",
       "      <th>1</th>\n",
       "      <td>0.02</td>\n",
       "      <td>1270.683294</td>\n",
       "      <td>1674.325576</td>\n",
       "    </tr>\n",
       "    <tr>\n",
       "      <th>2</th>\n",
       "      <td>0.03</td>\n",
       "      <td>1171.686388</td>\n",
       "      <td>1393.802689</td>\n",
       "    </tr>\n",
       "    <tr>\n",
       "      <th>3</th>\n",
       "      <td>0.04</td>\n",
       "      <td>1081.757167</td>\n",
       "      <td>1173.804433</td>\n",
       "    </tr>\n",
       "    <tr>\n",
       "      <th>4</th>\n",
       "      <td>0.05</td>\n",
       "      <td>1000.000000</td>\n",
       "      <td>1000.000000</td>\n",
       "    </tr>\n",
       "    <tr>\n",
       "      <th>5</th>\n",
       "      <td>0.06</td>\n",
       "      <td>925.612626</td>\n",
       "      <td>861.622182</td>\n",
       "    </tr>\n",
       "    <tr>\n",
       "      <th>6</th>\n",
       "      <td>0.07</td>\n",
       "      <td>857.875967</td>\n",
       "      <td>750.552659</td>\n",
       "    </tr>\n",
       "    <tr>\n",
       "      <th>7</th>\n",
       "      <td>0.08</td>\n",
       "      <td>796.145105</td>\n",
       "      <td>660.647650</td>\n",
       "    </tr>\n",
       "    <tr>\n",
       "      <th>8</th>\n",
       "      <td>0.09</td>\n",
       "      <td>739.841271</td>\n",
       "      <td>587.239559</td>\n",
       "    </tr>\n",
       "  </tbody>\n",
       "</table>\n",
       "</div>"
      ],
      "text/plain": [
       "    ytm        bondA        bondB\n",
       "0  0.01  1379.748383  2034.511215\n",
       "1  0.02  1270.683294  1674.325576\n",
       "2  0.03  1171.686388  1393.802689\n",
       "3  0.04  1081.757167  1173.804433\n",
       "4  0.05  1000.000000  1000.000000\n",
       "5  0.06   925.612626   861.622182\n",
       "6  0.07   857.875967   750.552659\n",
       "7  0.08   796.145105   660.647650\n",
       "8  0.09   739.841271   587.239559"
      ]
     },
     "execution_count": 6,
     "metadata": {},
     "output_type": "execute_result"
    }
   ],
   "source": [
    "df = pd.DataFrame({\"ytm\":ytm, \"bondA\":bondA, \"bondB\":bondB})\n",
    "df"
   ]
  },
  {
   "cell_type": "code",
   "execution_count": 7,
   "metadata": {},
   "outputs": [
    {
     "data": {
      "text/plain": [
       "<AxesSubplot:xlabel='ytm'>"
      ]
     },
     "execution_count": 7,
     "metadata": {},
     "output_type": "execute_result"
    },
    {
     "data": {
      "image/png": "[encoded data removed]",
      "text/plain": [
       "<Figure size 720x576 with 1 Axes>"
      ]
     },
     "metadata": {
      "needs_background": "light"
     },
     "output_type": "display_data"
    }
   ],
   "source": [
    "df.plot(x=\"ytm\", y=[\"bondA\", \"bondB\"], kind=\"line\", figsize=(10, 8))"
   ]
  },
  {
   "cell_type": "markdown",
   "metadata": {},
   "source": [
    "Here we can see that in both bonds as the yeild goes up, the prices decrease. This graph shows the negative relationship between the yeilds and prices. If looks like bondB, the 30 year bond, decreases at a faster rate than bondA, the 10 year bond. It doesn't look totally linear. It looks concave up and decreasing. "
   ]
  },
  {
   "cell_type": "markdown",
   "metadata": {},
   "source": [
    "2.3 (c)"
   ]
  },
  {
   "cell_type": "code",
   "execution_count": 14,
   "metadata": {},
   "outputs": [
    {
     "data": {
      "text/html": [
       "<div>\n",
       "<style scoped>\n",
       "    .dataframe tbody tr th:only-of-type {\n",
       "        vertical-align: middle;\n",
       "    }\n",
       "\n",
       "    .dataframe tbody tr th {\n",
       "        vertical-align: top;\n",
       "    }\n",
       "\n",
       "    .dataframe thead th {\n",
       "        text-align: right;\n",
       "    }\n",
       "</style>\n",
       "<table border=\"1\" class=\"dataframe\">\n",
       "  <thead>\n",
       "    <tr style=\"text-align: right;\">\n",
       "      <th></th>\n",
       "      <th>ytm</th>\n",
       "      <th>bondA</th>\n",
       "      <th>bondB</th>\n",
       "      <th>drdyA</th>\n",
       "      <th>drdyB</th>\n",
       "    </tr>\n",
       "  </thead>\n",
       "  <tbody>\n",
       "    <tr>\n",
       "      <th>0</th>\n",
       "      <td>0.01</td>\n",
       "      <td>1379.748383</td>\n",
       "      <td>2034.511215</td>\n",
       "      <td>-7.90471</td>\n",
       "      <td>-17.7038</td>\n",
       "    </tr>\n",
       "    <tr>\n",
       "      <th>1</th>\n",
       "      <td>0.02</td>\n",
       "      <td>1270.683294</td>\n",
       "      <td>1674.325576</td>\n",
       "      <td>-7.79084</td>\n",
       "      <td>-16.7544</td>\n",
       "    </tr>\n",
       "    <tr>\n",
       "      <th>2</th>\n",
       "      <td>0.03</td>\n",
       "      <td>1171.686388</td>\n",
       "      <td>1393.802689</td>\n",
       "      <td>-7.6752</td>\n",
       "      <td>-15.784</td>\n",
       "    </tr>\n",
       "    <tr>\n",
       "      <th>3</th>\n",
       "      <td>0.04</td>\n",
       "      <td>1081.757167</td>\n",
       "      <td>1173.804433</td>\n",
       "      <td>-7.55781</td>\n",
       "      <td>-14.8069</td>\n",
       "    </tr>\n",
       "    <tr>\n",
       "      <th>4</th>\n",
       "      <td>0.05</td>\n",
       "      <td>1000.000000</td>\n",
       "      <td>1000.000000</td>\n",
       "      <td>-7.43874</td>\n",
       "      <td>-13.8378</td>\n",
       "    </tr>\n",
       "    <tr>\n",
       "      <th>5</th>\n",
       "      <td>0.06</td>\n",
       "      <td>925.612626</td>\n",
       "      <td>861.622182</td>\n",
       "      <td>-7.31804</td>\n",
       "      <td>-12.8907</td>\n",
       "    </tr>\n",
       "    <tr>\n",
       "      <th>6</th>\n",
       "      <td>0.07</td>\n",
       "      <td>857.875967</td>\n",
       "      <td>750.552659</td>\n",
       "      <td>-7.19578</td>\n",
       "      <td>-11.9785</td>\n",
       "    </tr>\n",
       "    <tr>\n",
       "      <th>7</th>\n",
       "      <td>0.08</td>\n",
       "      <td>796.145105</td>\n",
       "      <td>660.647650</td>\n",
       "      <td>-7.07206</td>\n",
       "      <td>-11.1115</td>\n",
       "    </tr>\n",
       "  </tbody>\n",
       "</table>\n",
       "</div>"
      ],
      "text/plain": [
       "    ytm        bondA        bondB    drdyA    drdyB\n",
       "0  0.01  1379.748383  2034.511215 -7.90471 -17.7038\n",
       "1  0.02  1270.683294  1674.325576 -7.79084 -16.7544\n",
       "2  0.03  1171.686388  1393.802689  -7.6752  -15.784\n",
       "3  0.04  1081.757167  1173.804433 -7.55781 -14.8069\n",
       "4  0.05  1000.000000  1000.000000 -7.43874 -13.8378\n",
       "5  0.06   925.612626   861.622182 -7.31804 -12.8907\n",
       "6  0.07   857.875967   750.552659 -7.19578 -11.9785\n",
       "7  0.08   796.145105   660.647650 -7.07206 -11.1115"
      ]
     },
     "execution_count": 14,
     "metadata": {},
     "output_type": "execute_result"
    }
   ],
   "source": [
    "deltaY = .01\n",
    "df['drdyA'] = \"\"\n",
    "df['drdyB'] = \"\"\n",
    "\n",
    "for i in range(len(ytm) - 1):\n",
    "    df['drdyA'][i] = ((bondA[i+1] - bondA[i])/bondA[i])/deltaY\n",
    "    df['drdyB'][i] = ((bondB[i+1] - bondB[i])/bondB[i])/deltaY\n",
    "    \n",
    "df = df[:-1]\n",
    "df"
   ]
  },
  {
   "cell_type": "code",
   "execution_count": 15,
   "metadata": {},
   "outputs": [
    {
     "data": {
      "text/plain": [
       "<AxesSubplot:xlabel='ytm'>"
      ]
     },
     "execution_count": 15,
     "metadata": {},
     "output_type": "execute_result"
    },
    {
     "data": {
      "image/png": "[encoded data removed]",
      "text/plain": [
       "<Figure size 720x576 with 1 Axes>"
      ]
     },
     "metadata": {
      "needs_background": "light"
     },
     "output_type": "display_data"
    }
   ],
   "source": [
    "df.plot(x=\"ytm\", y=[\"drdyA\", \"drdyB\"], kind=\"line\", figsize=(10, 8))"
   ]
  },
  {
   "cell_type": "markdown",
   "metadata": {},
   "source": [
    "Again, here it looks like bond B, the 30 year bond, is increasing at a faster rate, implying that it is more sensitive. Thus, I assume from this example that the longer the bond takes to mature, the more sensitive it is to changes in yeilds. "
   ]
  }
 ],
 "metadata": {
  "kernelspec": {
   "display_name": "Python 3 (ipykernel)",
   "language": "python",
   "name": "python3"
  },
  "language_info": {
   "codemirror_mode": {
    "name": "ipython",
    "version": 3
   },
   "file_extension": ".py",
   "mimetype": "text/x-python",
   "name": "python",
   "nbconvert_exporter": "python",
   "pygments_lexer": "ipython3",
   "version": "3.9.10+"
  }
 },
 "nbformat": 4,
 "nbformat_minor": 4
}
